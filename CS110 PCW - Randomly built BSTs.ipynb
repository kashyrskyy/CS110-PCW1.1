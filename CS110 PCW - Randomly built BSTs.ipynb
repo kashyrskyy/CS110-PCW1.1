{
 "cells": [
  {
   "cell_type": "markdown",
   "metadata": {},
   "source": [
    "Before you turn this problem in, make sure everything runs as expected. First, **restart the kernel** (in the menubar, select Kernel$\\rightarrow$Restart) and then **run all cells** (in the menubar, select Cell$\\rightarrow$Run All).\n",
    "\n",
    "Note that this Pre-class Work is estimated to take **43 minutes**.\n",
    "\n",
    "Make sure you fill in any place that says `YOUR CODE HERE` or \"YOUR ANSWER HERE\", as well as your name and collaborators below:"
   ]
  },
  {
   "cell_type": "code",
   "execution_count": 1,
   "metadata": {},
   "outputs": [],
   "source": [
    "NAME = \"Andriy Kashyrskyy\"\n",
    "COLLABORATORS = \"\""
   ]
  },
  {
   "cell_type": "markdown",
   "metadata": {},
   "source": [
    "---"
   ]
  },
  {
   "cell_type": "markdown",
   "metadata": {
    "deletable": false,
    "editable": false,
    "nbgrader": {
     "checksum": "53f91bdb5f2f106f06872a2a6e7a98f5",
     "grade": false,
     "grade_id": "cell-bd90321d310ba2d4",
     "locked": true,
     "schema_version": 1,
     "solution": false
    }
   },
   "source": [
    "# CS110 Pre-class Work - Randomly built BSTs\n",
    "\n",
    "## Part A. Average number of comparisons when searching"
   ]
  },
  {
   "cell_type": "markdown",
   "metadata": {
    "deletable": false,
    "editable": false,
    "nbgrader": {
     "checksum": "c1c60903cd4344daf3877a1a656e283e",
     "grade": false,
     "grade_id": "cell-9e8b16db9d917705",
     "locked": true,
     "schema_version": 1,
     "solution": false
    }
   },
   "source": [
    "## Question 0 [time estimate: 1 minute] \n",
    "\n",
    "Paste in the working code from last session's PCW for the class Node, which contains the methods for insertion, searching, and deletion. \n",
    "\n"
   ]
  },
  {
   "cell_type": "code",
   "execution_count": 2,
   "metadata": {
    "deletable": false,
    "nbgrader": {
     "checksum": "525698a22b0cee9c4cb74be2011232de",
     "grade": true,
     "grade_id": "cell-1eadb1312ac0519d",
     "locked": false,
     "points": 0,
     "schema_version": 1,
     "solution": true
    }
   },
   "outputs": [],
   "source": [
    "## Binary Search Tree\n",
    "## added methods from Prof. Scheffler's github shared via email\n",
    "\n",
    "class Node:\n",
    "\n",
    "    def __init__(self, val):\n",
    "        self.l_child = None\n",
    "        self.r_child = None\n",
    "        self.parent = None\n",
    "        self.data = val\n",
    "\n",
    "    def insert(self, node):\n",
    "        \"\"\"\n",
    "        Inserts a node into a *non-empty* tree rooted at the node, returns\n",
    "        the root.\n",
    "        \"\"\"\n",
    "        if self.data > node.data:\n",
    "            if self.l_child is None:\n",
    "                self.l_child = node\n",
    "                node.parent = self\n",
    "            else:\n",
    "                self.l_child.insert(node)\n",
    "        else: #if self.data < node.data:\n",
    "            if self.r_child is None:\n",
    "                self.r_child = node\n",
    "                node.parent = self\n",
    "            else:\n",
    "                self.r_child.insert(node)\n",
    "        return self\n",
    "    \n",
    "    def minimum(self):\n",
    "        node = self\n",
    "        while node.l_child != None:\n",
    "            node = node.l_child\n",
    "        return node\n",
    "\n",
    "    def search_data(self, value):\n",
    "        \"\"\"\n",
    "        Searches a *non-empty* tree rooted at the node for a node with\n",
    "        data = value, returns the value if found, None otherwise.\n",
    "        \"\"\"\n",
    "        node = self.search(value)\n",
    "        if node:\n",
    "            return node.data\n",
    "        else:\n",
    "            return node\n",
    "        \n",
    "    def to_string(self): \n",
    "        print('self.data', self.data)\n",
    "        root=self\n",
    "        if not root: \n",
    "            return 'Nil'\n",
    "        else: \n",
    "            r = root.r_child.to_string() if root.r_child else 'Nil'\n",
    "            l = root.l_child.to_string() if root.l_child else 'Nil'\n",
    "        return 'Node(' + str(root.data) + ' L: ' + l + ' R: ' + r + ')'\n",
    "\n",
    "    def delete(self, value):\n",
    "        def transplant(node1, node2):\n",
    "            \"\"\"\n",
    "            Replaces the subtree rooted at node1 with the subtree rooted at node2.\n",
    "            \"\"\"\n",
    "            nonlocal root\n",
    "            if node1.parent == None:\n",
    "                root = node2\n",
    "            elif node1 == node1.parent.l_child:\n",
    "                node1.parent.l_child = node2\n",
    "            else:\n",
    "                node1.parent.r_child = node2\n",
    "            if node2 != None:\n",
    "                node2.parent = node1.parent\n",
    "\n",
    "        # If a node with data = value is present in the tree rooted at Node,\n",
    "        # deletes that node and returns the root.\n",
    "        root = self\n",
    "        node = root.search(value)\n",
    "        if node:\n",
    "            if node.l_child is None:\n",
    "                transplant(node, node.r_child)\n",
    "            elif node.r_child == None:\n",
    "                transplant(node, node.l_child)\n",
    "            else:\n",
    "                y = node.r_child.minimum() # y = minimum(node.r_child)\n",
    "                if y.parent != node:\n",
    "                    transplant(y, y.r_child)\n",
    "                    y.r_child = node.r_child\n",
    "                    y.r_child.parent = y\n",
    "                transplant(node, y)\n",
    "                y.l_child = node.l_child\n",
    "                y.l_child.parent = y\n",
    "        return root\n",
    "    \n",
    "    def search(self, value):\n",
    "        \"\"\"\n",
    "        Searches a *non-empty* tree rooted at the node for a node with\n",
    "        data = value, returns the node if found, None otherwise.\n",
    "        \"\"\"\n",
    "        if value == self.data:\n",
    "            return self\n",
    "        elif value < self.data:\n",
    "            if self.l_child:\n",
    "                return self.l_child.search(value)\n",
    "            else:\n",
    "                return None\n",
    "        else:\n",
    "            if self.r_child:\n",
    "                return self.r_child.search(value)\n",
    "            else:\n",
    "                return None\n",
    "    \n",
    "    def inorder(self): \n",
    "        \"\"\"\n",
    "        Returns a list of all data in the tree rooted at root produced\n",
    "        using an in order traversal.\n",
    "        \"\"\"\n",
    "        lst = []\n",
    "        root = self\n",
    "        def sub_inorder(root):\n",
    "            if not root is None:\n",
    "                sub_inorder(root.l_child)\n",
    "                lst.append(root.data)\n",
    "                sub_inorder(root.r_child)\n",
    "        sub_inorder(root)\n",
    "        return lst"
   ]
  },
  {
   "cell_type": "markdown",
   "metadata": {
    "deletable": false,
    "editable": false,
    "nbgrader": {
     "checksum": "a79cbf2799a45e4c351c9ed9f600c3b5",
     "grade": false,
     "grade_id": "cell-d3f754a4d3637207",
     "locked": true,
     "schema_version": 1,
     "solution": false
    }
   },
   "source": [
    "\n",
    "## Question 1 [time estimate: 5 minutes]\n",
    "\n",
    "Complete the following function that computes the depth of a given node in a BST identified by its root. Use the test below to make sure your code works properly (Optional: Why does the test work?)"
   ]
  },
  {
   "cell_type": "code",
   "execution_count": 3,
   "metadata": {
    "deletable": false,
    "nbgrader": {
     "checksum": "6040a364ba7372adc7f259a4b0d875fc",
     "grade": false,
     "grade_id": "cell-cd10e9a432673bd9",
     "locked": false,
     "schema_version": 1,
     "solution": true
    }
   },
   "outputs": [],
   "source": [
    "def depth(root, node):\n",
    "    \"\"\"\n",
    "    Finds the depth of the node in a BST. depth of root is 0.\n",
    "\n",
    "    Parameters\n",
    "    ----------\n",
    "    root \n",
    "        A node, the root of the BST\n",
    "    node \n",
    "        A node to compute the depth of\n",
    "\n",
    "    Returns\n",
    "    -------\n",
    "    d : int \n",
    "        Distance from node to root\n",
    "        \n",
    "    \"\"\"\n",
    "    ## if root is equal to the node, return 0 (same depth of 0, on level 0)\n",
    "    if root.data == node.data:\n",
    "        return 0\n",
    "    ## if root is bigger than the node, add 1 and call depth() on left child node\n",
    "    elif root.data > node.data:\n",
    "        return 1 + depth(root.l_child, node)\n",
    "    ## if root is smaller than the node, add 1 and call depth() on right child node\n",
    "    else: # if root.data < node.data:\n",
    "        return 1 + depth(root.r_child, node)\n",
    "    ## return calculated depth value"
   ]
  },
  {
   "cell_type": "code",
   "execution_count": 4,
   "metadata": {},
   "outputs": [],
   "source": [
    "import math\n",
    "\n",
    "# Testing code \n",
    "bst = None\n",
    "nodes = [Node(15), Node(6), Node(18), Node(3), Node(7), \n",
    "         Node(17), Node(20), Node(2), Node(4)]\n",
    "for node in nodes:\n",
    "    if not bst:\n",
    "        bst = node\n",
    "    else:\n",
    "        bst.insert(node)\n",
    "#         insert(bst, node)\n",
    "for i in range(len(nodes)):\n",
    "    assert(depth(bst, nodes[i]) == int(math.log(i+1,2)))"
   ]
  },
  {
   "cell_type": "code",
   "execution_count": 5,
   "metadata": {
    "deletable": false,
    "editable": false,
    "nbgrader": {
     "checksum": "46a630a4c6307c799c44715ec3868d58",
     "grade": true,
     "grade_id": "cell-c57bc5138040968c",
     "locked": true,
     "points": 1,
     "schema_version": 1,
     "solution": false
    }
   },
   "outputs": [],
   "source": [
    "# Please ignore this cell. This cell is for us to implement the tests \n",
    "# to see if your code works properly. "
   ]
  },
  {
   "cell_type": "markdown",
   "metadata": {
    "deletable": false,
    "editable": false,
    "nbgrader": {
     "checksum": "01fa65ccabde3f2f6a8c62aca64dcd53",
     "grade": false,
     "grade_id": "cell-bd8ce3e36c859c2e",
     "locked": true,
     "schema_version": 1,
     "solution": false
    }
   },
   "source": [
    "## Question 2 [time estimate: 5 minutes]\n",
    "\n",
    "Complete the following function, making use of `depth`, to calculate the average number of comparisons required to search for a randomly chosen element of a standard BST. For example, the following tree:\n",
    "\n",
    "                            12\n",
    "                              \\\n",
    "                               14\n",
    "\n",
    "will have an average number of comparisons of 1.5. This is because 50% of the time we will be searching for 12 (1 comparison), and 50% of the time we will be searching for 14 (2 comparisons).\n",
    "\n",
    "You can test your function with this test case by constructing the tree using the code from the last session's pre-class work. \n",
    "\n",
    "\n",
    "(*Hint*: the number of comparisons required to search for node a is `depth(root, a) + 1`.) "
   ]
  },
  {
   "cell_type": "code",
   "execution_count": 6,
   "metadata": {
    "deletable": false,
    "nbgrader": {
     "checksum": "5de9ebf48a00878b4b565237c2d88265",
     "grade": false,
     "grade_id": "cell-34e9cb302f1dad00",
     "locked": false,
     "schema_version": 1,
     "solution": true
    }
   },
   "outputs": [],
   "source": [
    "def avg_cmp(bst):\n",
    "    \"\"\"\n",
    "    Finds the average number of comparisons required \n",
    "    to search for a randomly chosen element of a standard BST. \n",
    "    \n",
    "    Parameters\n",
    "    ----------\n",
    "    bst \n",
    "        A Node, the root of the BST\n",
    "    \n",
    "    Returns\n",
    "    -------\n",
    "    n : float\n",
    "        Average number of comparisons\n",
    "        \n",
    "    \"\"\"\n",
    "    comparisons_all = [] # creating an empty list for all \n",
    "                         #comparisons to be stored\n",
    "    \n",
    "    ## defining inner comparisons function\n",
    "    def comparisons(tree):\n",
    "        ## if tree node is not equal to None (if it's value isn't None)\n",
    "        if tree is not None:\n",
    "            comparisons(tree.l_child)\n",
    "            comparisons(tree.r_child)\n",
    "            ## number of comparisons calculated as depth of tree + 1\n",
    "            n = depth(bst, tree)+1\n",
    "            ## appending number of comparisons to the list\n",
    "            comparisons_all.append(n)\n",
    "            \n",
    "    ## calling comparisons on the tree with nodes \n",
    "    ## which goes through left and right sides of the tree\n",
    "    comparisons(bst)\n",
    "    ## printing list with comparisons\n",
    "    ## print(comparisons_all)\n",
    "    \n",
    "    ## taking an average as a sum divided by length, returning it\n",
    "    average = sum(comparisons_all)/len(comparisons_all)\n",
    "    return average"
   ]
  },
  {
   "cell_type": "code",
   "execution_count": 7,
   "metadata": {},
   "outputs": [
    {
     "data": {
      "text/plain": [
       "1.5"
      ]
     },
     "execution_count": 7,
     "metadata": {},
     "output_type": "execute_result"
    }
   ],
   "source": [
    "## testing\n",
    "\n",
    "bst = None\n",
    "nodes = [Node(12), Node(14)]\n",
    "for node in nodes:\n",
    "    if not bst:\n",
    "        bst = node\n",
    "    else:\n",
    "        bst.insert(node)\n",
    "avg_cmp(bst)"
   ]
  },
  {
   "cell_type": "code",
   "execution_count": 8,
   "metadata": {
    "deletable": false,
    "editable": false,
    "nbgrader": {
     "checksum": "7c94a3d9e151e1a920e846ff98e118a8",
     "grade": true,
     "grade_id": "cell-dedc229bbb15d811",
     "locked": true,
     "points": 1,
     "schema_version": 1,
     "solution": false
    }
   },
   "outputs": [],
   "source": [
    "# Please ignore this cell. This cell is for us to implement the tests \n",
    "# to see if your code works properly. "
   ]
  },
  {
   "cell_type": "markdown",
   "metadata": {
    "deletable": false,
    "editable": false,
    "nbgrader": {
     "checksum": "219e1c0aea58c5955539210f5c34b000",
     "grade": false,
     "grade_id": "cell-4b7d0c4e86568346",
     "locked": true,
     "schema_version": 1,
     "solution": false
    }
   },
   "source": [
    "## Part B. Depth of randomly-built trees\n",
    "The average number of comparisons for a randomly chosen element within the tree is related to the “average depth” of the tree. Here the average depth of a tree is defined to be the average of the depths of all the nodes in the tree. \n",
    "\n",
    "## Question 1 [time estimate: 10 minutes]\n",
    "\n",
    "Complete the following function to find the maximum depth of a node in a given BST. The function must run in $\\mathrm{O}(N)$ time and use $\\mathrm{O}(h)$ space (where $N$ is the number of elements in the BST and $h$ is the height of the tree). Also, note that the maximum depth is equal to the height of the tree.\n"
   ]
  },
  {
   "cell_type": "code",
   "execution_count": 9,
   "metadata": {
    "deletable": false,
    "nbgrader": {
     "checksum": "71f602309416ba9c718f06f4cc466075",
     "grade": false,
     "grade_id": "cell-64aba253c2b1bada",
     "locked": false,
     "schema_version": 1,
     "solution": true
    }
   },
   "outputs": [],
   "source": [
    "def max_depth(bst):\n",
    "    \"\"\"\n",
    "    Finds the maximum depth of node in a BST.\n",
    "    \n",
    "    Parameters\n",
    "    ----------\n",
    "    bst \n",
    "        A Node, the root of the BST\n",
    "    \n",
    "    Returns\n",
    "    -------\n",
    "    h : int\n",
    "        The maximum depth in a BST\n",
    "        \n",
    "    \"\"\"\n",
    "    ## creating empty lists to store left and right depths\n",
    "    depth_l = [] \n",
    "    depth_r = []\n",
    "    \n",
    "    if not bst:\n",
    "        return 0\n",
    "    ## find max_depth (recursively) for left and right child nodes\n",
    "    else:\n",
    "        depth_l.append(max_depth(bst.l_child))\n",
    "        depth_r.append(max_depth(bst.r_child))\n",
    "        \n",
    "    #print(depth_l)\n",
    "    #print(depth_r)\n",
    "    \n",
    "    #return the maximum value + 1\n",
    "    return max(max(depth_l), max(depth_r)) + 1"
   ]
  },
  {
   "cell_type": "code",
   "execution_count": 10,
   "metadata": {},
   "outputs": [
    {
     "data": {
      "text/plain": [
       "1000"
      ]
     },
     "execution_count": 10,
     "metadata": {},
     "output_type": "execute_result"
    }
   ],
   "source": [
    "## testing \n",
    "bst = None\n",
    "for node in [Node(_) for _ in range(1000)]:\n",
    "    if not bst:\n",
    "        bst = node\n",
    "    else:\n",
    "        bst.insert(node)\n",
    "        \n",
    "max_depth(bst)"
   ]
  },
  {
   "cell_type": "code",
   "execution_count": 11,
   "metadata": {
    "deletable": false,
    "editable": false,
    "nbgrader": {
     "checksum": "641f559b2bcdfad11577dd6202a0e378",
     "grade": true,
     "grade_id": "cell-82deabcb0ea2e594",
     "locked": true,
     "points": 1,
     "schema_version": 1,
     "solution": false
    }
   },
   "outputs": [],
   "source": [
    "# Please ignore this cell. This cell is for us to implement the tests \n",
    "# to see if your code works properly. "
   ]
  },
  {
   "cell_type": "markdown",
   "metadata": {
    "deletable": false,
    "nbgrader": {
     "checksum": "3224988f295d6adc77632f7f4ff5c8e2",
     "grade": false,
     "grade_id": "cell-fd78b979c52b9527",
     "locked": true,
     "schema_version": 1,
     "solution": false
    }
   },
   "source": [
    "## Question 2 [time estimate: 5 minutes]\n",
    "\n",
    "Using the `avg_cmp` function, complete the following function to return the average depth of the tree. The average depth is related to the average number of comparisons as `average depth = (average comparisons - 1)`, since the root has depth zero."
   ]
  },
  {
   "cell_type": "code",
   "execution_count": 12,
   "metadata": {
    "deletable": false,
    "nbgrader": {
     "checksum": "90d64051c00f344fc6baaf3ae169c87f",
     "grade": false,
     "grade_id": "cell-347916904e4a8379",
     "locked": false,
     "schema_version": 1,
     "solution": true
    }
   },
   "outputs": [],
   "source": [
    "def avg_depth(bst):\n",
    "    \"\"\"\n",
    "    Computes the average depth of a BST\n",
    "    \n",
    "    Parameters\n",
    "    ----------\n",
    "    bst\n",
    "        A Node, root of the BST\n",
    "    \n",
    "    Returns\n",
    "    -------\n",
    "    avg_d : float\n",
    "        Average depth of the BST\n",
    "        \n",
    "    \"\"\"\n",
    "    ## calculating average depth\n",
    "    average_depth = avg_cmp(bst) - 1\n",
    "    ## returning average depth\n",
    "    return average_depth "
   ]
  },
  {
   "cell_type": "code",
   "execution_count": 13,
   "metadata": {},
   "outputs": [
    {
     "data": {
      "text/plain": [
       "1.0"
      ]
     },
     "execution_count": 13,
     "metadata": {},
     "output_type": "execute_result"
    }
   ],
   "source": [
    "# testing \n",
    "\n",
    "bst = None\n",
    "nodes = [Node(12), Node(14), Node(16)]\n",
    "for node in nodes:\n",
    "    if not bst:\n",
    "        bst = node\n",
    "    else:\n",
    "        bst.insert(node)\n",
    "        \n",
    "avg_depth(bst)"
   ]
  },
  {
   "cell_type": "code",
   "execution_count": 14,
   "metadata": {
    "deletable": false,
    "editable": false,
    "nbgrader": {
     "checksum": "43da2ece71043e2a56753ec2f9b208dc",
     "grade": true,
     "grade_id": "cell-1bd7535fe6950d5f",
     "locked": true,
     "points": 1,
     "schema_version": 1,
     "solution": false
    }
   },
   "outputs": [],
   "source": [
    "# Please ignore this cell. This cell is for us to implement the tests \n",
    "# to see if your code works properly. "
   ]
  },
  {
   "cell_type": "markdown",
   "metadata": {
    "deletable": false,
    "editable": false,
    "nbgrader": {
     "checksum": "25274f67359e9c4280895dca8e0589d1",
     "grade": false,
     "grade_id": "cell-6365329a3c57c1b1",
     "locked": true,
     "schema_version": 1,
     "solution": false
    }
   },
   "source": [
    "## Question 3 [time estimate: 10 minutes]\n",
    "Now, insert randomly shuffled lists into BSTs, and measure the average depth and the maximum depth. How do these statistics scale as you increase $N$, the number of nodes? Make sure to give a compelling argument that motivates this scaling behaviour (you do not need to provide a technical derivation)."
   ]
  },
  {
   "cell_type": "markdown",
   "metadata": {
    "deletable": false,
    "nbgrader": {
     "checksum": "8a281cd793099803988046803bed99ba",
     "grade": true,
     "grade_id": "cell-bad918a333cabe43",
     "locked": false,
     "points": 0,
     "schema_version": 1,
     "solution": true
    }
   },
   "source": [
    "The maximum depth will scale as the overall height of the tree h. The value of h gets bigger with the amount of nodes being inserted in a tree; the best/average running time complexity in that case is also O(log(n)) since we go down two sides of the tree; randomization results in O(log(n) behavior too; however, in worst case this will be O(n), when the tree only has one branch that stems down using single child node for each level. The average depth will also scale as the height h of the given tree. Its average time complexity is also log(n), as seen from the graph below, and its depths value is smaller in the long run over larger number on N, than the depths value related to maximum depth. I believe this relates to the comparisons/splits we are making, and the fact that maximum depth will always have greater (extreme) values than those from average depth (also as to get the average depth we perform the division by the number of nodes N)."
   ]
  },
  {
   "cell_type": "markdown",
   "metadata": {
    "deletable": false,
    "editable": false,
    "nbgrader": {
     "checksum": "dd1dd0c5c45fc94abb6229a38d8e04a2",
     "grade": false,
     "grade_id": "cell-3255b4081c295fa6",
     "locked": true,
     "schema_version": 1,
     "solution": false
    }
   },
   "source": [
    "\n",
    "## Question 4 [time estimate: 7 minutes]\n",
    "\n",
    "Produce a plot showing the scaling behavior that you saw of both the average depth and the maximum depth as a function of the length of the shuffled list. For a meaningful figure, be sure to scale out to a list of size 10,000 and average the timings 50 times. (You don’t have to sample each value from 1 to 10,000!). Is this plot in agreement with the theoretical result you obtained in the previous question? Explain. \n"
   ]
  },
  {
   "cell_type": "code",
   "execution_count": 15,
   "metadata": {
    "deletable": false,
    "nbgrader": {
     "checksum": "a870cffbb739ec466993697791c20248",
     "grade": true,
     "grade_id": "cell-3034eb71070a6734",
     "locked": false,
     "points": 0,
     "schema_version": 1,
     "solution": true
    }
   },
   "outputs": [],
   "source": [
    "import matplotlib.pyplot as plt\n",
    "import numpy as np\n",
    "import random"
   ]
  },
  {
   "cell_type": "code",
   "execution_count": 16,
   "metadata": {
    "scrolled": true
   },
   "outputs": [
    {
     "data": {
      "image/png": "[encoded data removed]",
      "text/plain": [
       "<Figure size 432x288 with 1 Axes>"
      ]
     },
     "metadata": {
      "needs_background": "light"
     },
     "output_type": "display_data"
    }
   ],
   "source": [
    "## creating empty lists for plotting (x and y)\n",
    "N = []\n",
    "max_depths = []\n",
    "avg_depths = []\n",
    "\n",
    "## defining size range\n",
    "for size in range(1, 10000, 100):\n",
    "    ## setting maximum and average to 0, these will be updated\n",
    "    N.append(size) #appending the sizes into N\n",
    "    maximum = 0\n",
    "    average = 0\n",
    "    \n",
    "    ## running 50 times\n",
    "    for times in range(51):\n",
    "        bst = None\n",
    "        sizes = [size for size in range(1, size+1)]\n",
    "        ## shuffling randomly\n",
    "        random.shuffle(sizes)\n",
    "        \n",
    "        ## for each node; building a bst with insert() function\n",
    "        for node in [Node(_) for _ in sizes]:\n",
    "            if not bst:\n",
    "                bst = node\n",
    "            else:\n",
    "                bst.insert(node)\n",
    "                \n",
    "        # updating maximum and average        \n",
    "        maximum += max_depth(bst)\n",
    "        maximums = maximum/50\n",
    "        average += avg_depth(bst)\n",
    "        averages = average/50\n",
    "    \n",
    "    ## appending maximum and average to the lists\n",
    "    max_depths.append(maximums)\n",
    "    avg_depths.append(averages)       \n",
    "\n",
    "## plotting\n",
    "plt.plot(N, max_depths, color = 'red',label = 'max depth', linewidth = 1.0)\n",
    "plt.plot(N, avg_depths, color = 'blue',label = 'average depth', linewidth = 1.0)\n",
    "plt.xlabel('$N$', fontsize=10)\n",
    "plt.ylabel('depths', fontsize=10)\n",
    "plt.legend()\n",
    "plt.show()"
   ]
  }
 ],
 "metadata": {
  "kernelspec": {
   "display_name": "Python 3",
   "language": "python",
   "name": "python3"
  },
  "language_info": {
   "codemirror_mode": {
    "name": "ipython",
    "version": 3
   },
   "file_extension": ".py",
   "mimetype": "text/x-python",
   "name": "python",
   "nbconvert_exporter": "python",
   "pygments_lexer": "ipython3",
   "version": "3.7.4"
  }
 },
 "nbformat": 4,
 "nbformat_minor": 2
}
