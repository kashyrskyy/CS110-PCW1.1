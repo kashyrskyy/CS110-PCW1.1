{
 "cells": [
  {
   "cell_type": "markdown",
   "metadata": {},
   "source": [
    "Before you turn this problem in, make sure everything runs as expected. First, **restart the kernel** (in the menubar, select Kernel$\\rightarrow$Restart) and then **run all cells** (in the menubar, select Cell$\\rightarrow$Run All).\n",
    "\n",
    "Note that this Pre-class Work is estimated to take **26 minutes**.\n",
    "\n",
    "Make sure you fill in any place that says `YOUR CODE HERE` or \"YOUR ANSWER HERE\", as well as your name and collaborators below:"
   ]
  },
  {
   "cell_type": "code",
   "execution_count": 4,
   "metadata": {},
   "outputs": [],
   "source": [
    "NAME = \"Andriy Kashyrskyy\"\n",
    "COLLABORATORS = \"None\""
   ]
  },
  {
   "cell_type": "markdown",
   "metadata": {},
   "source": [
    "---"
   ]
  },
  {
   "cell_type": "markdown",
   "metadata": {
    "deletable": false,
    "editable": false,
    "nbgrader": {
     "checksum": "df135f0c4ea26cc7c0b25cb64a20e634",
     "grade": false,
     "grade_id": "cell-b46066345313bea6",
     "locked": true,
     "schema_version": 1,
     "solution": false
    }
   },
   "source": [
    "# CS110 Pre-class Work - Writing algorithms in Python--part I\n",
    "\n",
    "## Question 1 [time estimate: 10 minutes]\n",
    "\n",
    "Palindromes are a sequence of characters (words, phrases, numbers) that can be read the same both from left to right and from right to left. Examples of palindromes include the word 'madam' and the number 12321.\n",
    "\n",
    "1. Explain how you would use an iterative approach, step by step, to check whether a word is a palindrome.\n",
    "2. Explain also how you would approach this problem using a recursive solution.\n",
    "\n",
    "You can use palindromic and non-palindromic words to assist your explanation. "
   ]
  },
  {
   "cell_type": "markdown",
   "metadata": {
    "deletable": false,
    "nbgrader": {
     "checksum": "104f443d240e2139d778711f6bc0a766",
     "grade": true,
     "grade_id": "cell-3bac59ff24b11a27",
     "locked": false,
     "points": 0,
     "schema_version": 1,
     "solution": true
    }
   },
   "source": [
    "*1*. **Iterative.** In general, to check whether a word is a palindrome, I would compare the strings of indexes 0 and -1, 1 and -2... up until the middle character (if the word has an even number of length of characters then there's no \"middle\" character with a \"twin\" character\", and it does have a middle character with odd number of length). I would consider using the following pseudocode:\n",
    "\n",
    "(i)\n",
    "1. defining a function that takes a string (word) as an argument\n",
    "2. taking the length of the word, assigning to word_length\n",
    "3. dividing word_length by 2, assigning to word_length_2\n",
    "4. creating 2 slices of the word, with indexes [0:word_length_2+1] and [word_length_2+1:-1]\n",
    "5. reverse one of the strings and check if two are equal (with boolean values True/False)\n",
    "6. Return True or False.\n",
    "\n",
    "(ii)\n",
    "1. Making a for loop that would go through all characters in a string of word; using a range function starting at 0 up until length len(word)-1.\n",
    "2. We run the loop checking if the character (first) is the same as another character (last), following the same idea for all subsequent characters. We check it with the boolean value of True/False. When the condition is not met, we then stop the loop outputting False. We rturn True if characters match.\n",
    "\n",
    "*2*. **Recursive.**\n",
    "1. We define the function that will reverse a given word.\n",
    "2. The reverse function returns the last character of the string + adding the dame reverse function to the remaining part of the word (with no last character it has already removed).\n",
    "3. We then compare the original word with the reversed one. If it matches (is equal), we return True; if it does not match we return False.\n",
    "\n",
    "*3*. **Additional.**\n",
    "I would just use a negative step argument to reverse the sequence, and then check if the new sequence is equal with the old sequence.\n",
    "\n",
    "*print('madam'[::-1] == 'madam')* - this would output True/False."
   ]
  },
  {
   "cell_type": "markdown",
   "metadata": {
    "deletable": false,
    "editable": false,
    "nbgrader": {
     "checksum": "7872c2d656a6cb3aaeff2b4fa41eb204",
     "grade": false,
     "grade_id": "cell-0ca65d04b209f37f",
     "locked": true,
     "schema_version": 1,
     "solution": false
    }
   },
   "source": [
    "## Question 2 [time estimate: 3 minutes]\n",
    "\n",
    "How would you prevent your recursive solution from running forever? In other words, what is the base case of your recursive approach?"
   ]
  },
  {
   "cell_type": "markdown",
   "metadata": {
    "deletable": false,
    "nbgrader": {
     "checksum": "4ff5af35daed9a5442ba229263bdde33",
     "grade": true,
     "grade_id": "cell-442998d5fdd8b561",
     "locked": false,
     "points": 0,
     "schema_version": 1,
     "solution": true
    }
   },
   "source": [
    "I will define the base condition, which can stop the recursive solutions from running for an infinite amount of time. I will set the base case as when the length of the string is 0; the function then would stop when we run out of characters in the string (==0)."
   ]
  },
  {
   "cell_type": "markdown",
   "metadata": {
    "deletable": false,
    "editable": false,
    "nbgrader": {
     "checksum": "9d7a3b260b0fef93382fb52aa393f963",
     "grade": false,
     "grade_id": "cell-0ac1c20b43acb363",
     "locked": true,
     "schema_version": 1,
     "solution": false
    }
   },
   "source": [
    "## Question 3 [time estimate: 3 minutes]\n",
    "\n",
    "Is there a base case in an iterative approach? Why or why not?"
   ]
  },
  {
   "cell_type": "markdown",
   "metadata": {
    "deletable": false,
    "nbgrader": {
     "checksum": "eb02c9951e19ee43d128fa93dd53eaad",
     "grade": true,
     "grade_id": "cell-5ecb51404140cb2f",
     "locked": false,
     "points": 0,
     "schema_version": 1,
     "solution": true
    }
   },
   "source": [
    "Something similar, though not explicitly named a base case, would be looking at an upper bound of range, which, when reached the boundary, will stop the for loop."
   ]
  },
  {
   "cell_type": "markdown",
   "metadata": {
    "deletable": false,
    "editable": false,
    "nbgrader": {
     "checksum": "cb0b8b9c4b153530d47b437baa24098d",
     "grade": false,
     "grade_id": "cell-b22dce6b32afe1a9",
     "locked": true,
     "schema_version": 1,
     "solution": false
    }
   },
   "source": [
    "## Question 4 [time estimate: 10 minutes]\n",
    "\n",
    "Given the algorithmic strategies you described in question 1, you will now implement these in Python code. Write a function for the iterative approach (using either a `for` or a `while` loop) and another function for the recursive approach. Both functions should return `True` if the provided word is a palindrome, and `False` if the word is not. \n",
    "\n",
    "Validate the correctness of your code by providing examples of words that can be used as test cases. Be prepared to paste your functions and Palindrome words you searched into a Minerva workbook during class."
   ]
  },
  {
   "cell_type": "code",
   "execution_count": 33,
   "metadata": {
    "deletable": false,
    "nbgrader": {
     "checksum": "16ff8874250907a794fdd3fa6c13bbec",
     "grade": false,
     "grade_id": "cell-b709733c96d8b615",
     "locked": false,
     "schema_version": 1,
     "solution": true
    }
   },
   "outputs": [
    {
     "name": "stdout",
     "output_type": "stream",
     "text": [
      "testing is_palindrome_iterative() function\n"
     ]
    },
    {
     "ename": "AttributeError",
     "evalue": "module 'test' has no attribute 'testEqual'",
     "output_type": "error",
     "traceback": [
      "\u001b[0;31m---------------------------------------------------------------------------\u001b[0m",
      "\u001b[0;31mAttributeError\u001b[0m                            Traceback (most recent call last)",
      "\u001b[0;32m<ipython-input-33-8f19e17f8ed2>\u001b[0m in \u001b[0;36m<module>\u001b[0;34m\u001b[0m\n\u001b[1;32m     26\u001b[0m \u001b[0;32mimport\u001b[0m \u001b[0mtest\u001b[0m\u001b[0;34m\u001b[0m\u001b[0;34m\u001b[0m\u001b[0m\n\u001b[1;32m     27\u001b[0m \u001b[0mprint\u001b[0m\u001b[0;34m(\u001b[0m\u001b[0;34m\"testing is_palindrome_iterative() function\"\u001b[0m\u001b[0;34m)\u001b[0m\u001b[0;34m\u001b[0m\u001b[0;34m\u001b[0m\u001b[0m\n\u001b[0;32m---> 28\u001b[0;31m \u001b[0mtest\u001b[0m\u001b[0;34m.\u001b[0m\u001b[0mtestEqual\u001b[0m\u001b[0;34m(\u001b[0m\u001b[0mis_palindrome_iterative\u001b[0m\u001b[0;34m(\u001b[0m\u001b[0;34m\"mom\"\u001b[0m\u001b[0;34m)\u001b[0m\u001b[0;34m,\u001b[0m \u001b[0;32mTrue\u001b[0m\u001b[0;34m)\u001b[0m\u001b[0;34m\u001b[0m\u001b[0;34m\u001b[0m\u001b[0m\n\u001b[0m\u001b[1;32m     29\u001b[0m \u001b[0mtest\u001b[0m\u001b[0;34m.\u001b[0m\u001b[0mtestEqual\u001b[0m\u001b[0;34m(\u001b[0m\u001b[0mis_palindrome_iterative\u001b[0m\u001b[0;34m(\u001b[0m\u001b[0;34m\"mother\"\u001b[0m\u001b[0;34m)\u001b[0m\u001b[0;34m,\u001b[0m \u001b[0;32mFalse\u001b[0m\u001b[0;34m)\u001b[0m\u001b[0;34m\u001b[0m\u001b[0;34m\u001b[0m\u001b[0m\n\u001b[1;32m     30\u001b[0m \u001b[0mtest\u001b[0m\u001b[0;34m.\u001b[0m\u001b[0mtestEqual\u001b[0m\u001b[0;34m(\u001b[0m\u001b[0mis_palindrome_iterative\u001b[0m\u001b[0;34m(\u001b[0m\u001b[0;34m\"madam\"\u001b[0m\u001b[0;34m)\u001b[0m\u001b[0;34m,\u001b[0m \u001b[0;32mTrue\u001b[0m\u001b[0;34m)\u001b[0m\u001b[0;34m\u001b[0m\u001b[0;34m\u001b[0m\u001b[0m\n",
      "\u001b[0;31mAttributeError\u001b[0m: module 'test' has no attribute 'testEqual'"
     ]
    }
   ],
   "source": [
    "## iterative\n",
    "def is_palindrome_iterative(word):\n",
    "    \"\"\"\n",
    "    This function identifies whether a word is a palindrome iteratively.\n",
    "\n",
    "    Parameters\n",
    "    ----------\n",
    "    word : str\n",
    "        Word we wish to check\n",
    "    \n",
    "    Returns\n",
    "    -------\n",
    "    bool\n",
    "        True if input is a palindrome, False otherwise\n",
    "        \n",
    "    \"\"\"\n",
    "    for ch in range(0, len(word)):\n",
    "        if word[ch]==word[-1-ch]:\n",
    "            return True\n",
    "        else:\n",
    "            return False\n",
    "    \n",
    "    ## raise NotImplementedError()\n",
    "    \n",
    "## unit testing\n",
    "import test\n",
    "print(\"testing is_palindrome_iterative() function\")\n",
    "test.testEqual(is_palindrome_iterative(\"mom\"), True)\n",
    "test.testEqual(is_palindrome_iterative(\"mother\"), False)\n",
    "test.testEqual(is_palindrome_iterative(\"madam\"), True)\n",
    "test.testEqual(is_palindrome_iterative(12321), True)\n",
    "test.testEqual(is_palindrome_iterative(\"madama\"), True)"
   ]
  },
  {
   "cell_type": "code",
   "execution_count": 32,
   "metadata": {
    "deletable": false,
    "nbgrader": {
     "checksum": "16ff8874250907a794fdd3fa6c13bbec",
     "grade": false,
     "grade_id": "cell-b709733c96d8b615",
     "locked": false,
     "schema_version": 1,
     "solution": true
    }
   },
   "outputs": [
    {
     "data": {
      "text/plain": [
       "False"
      ]
     },
     "execution_count": 32,
     "metadata": {},
     "output_type": "execute_result"
    }
   ],
   "source": [
    "## recursive\n",
    "def is_palindrome_recursive(word):\n",
    "    \"\"\"\n",
    "    This function identifies whether a word is a palindrome recursively.\n",
    "\n",
    "    Parameters\n",
    "    ----------\n",
    "    word : str\n",
    "        Word we wish to check\n",
    "    \n",
    "    Returns\n",
    "    -------\n",
    "    boolean\n",
    "        True if input is a palindrome, False otherwise\n",
    "        \n",
    "    \"\"\"\n",
    "    def rev(word):\n",
    "        if len(word)==0:\n",
    "            return \"\"\n",
    "        else:\n",
    "            return word[-1] + rev(word[:-1])\n",
    "    if rev(word)==word:\n",
    "        return True\n",
    "    else:\n",
    "        return False\n",
    "\n",
    "    ## raise NotImplementedError()\n",
    "    \n",
    "## unit testing\n",
    "import test\n",
    "print(\"testing is_palindrome_recursive() function\")\n",
    "test.testEqual(is_palindrome_recursive(\"mom\"), True)\n",
    "test.testEqual(is_palindrome_recursive(\"mother\"), False)\n",
    "test.testEqual(is_palindrome_recursive(\"madam\"), True)\n",
    "test.testEqual(is_palindrome_recursive(12321), True)\n",
    "test.testEqual(is_palindrome_recursive(\"madama\"), True)"
   ]
  },
  {
   "cell_type": "code",
   "execution_count": 18,
   "metadata": {},
   "outputs": [
    {
     "name": "stdout",
     "output_type": "stream",
     "text": [
      "testing is_palindrome() function\n"
     ]
    },
    {
     "ename": "AttributeError",
     "evalue": "module 'test' has no attribute 'testEqual'",
     "output_type": "error",
     "traceback": [
      "\u001b[0;31m---------------------------------------------------------------------------\u001b[0m",
      "\u001b[0;31mAttributeError\u001b[0m                            Traceback (most recent call last)",
      "\u001b[0;32m<ipython-input-18-cf6c03b22272>\u001b[0m in \u001b[0;36m<module>\u001b[0;34m\u001b[0m\n\u001b[1;32m      8\u001b[0m \u001b[0;31m## unit testing\u001b[0m\u001b[0;34m\u001b[0m\u001b[0;34m\u001b[0m\u001b[0;34m\u001b[0m\u001b[0m\n\u001b[1;32m      9\u001b[0m \u001b[0mprint\u001b[0m\u001b[0;34m(\u001b[0m\u001b[0;34m\"testing is_palindrome() function\"\u001b[0m\u001b[0;34m)\u001b[0m\u001b[0;34m\u001b[0m\u001b[0;34m\u001b[0m\u001b[0m\n\u001b[0;32m---> 10\u001b[0;31m \u001b[0mtest\u001b[0m\u001b[0;34m.\u001b[0m\u001b[0mtestEqual\u001b[0m\u001b[0;34m(\u001b[0m\u001b[0mis_palindrome_iterative\u001b[0m\u001b[0;34m(\u001b[0m\u001b[0;34m\"mom\"\u001b[0m\u001b[0;34m)\u001b[0m\u001b[0;34m,\u001b[0m \u001b[0;32mTrue\u001b[0m\u001b[0;34m)\u001b[0m\u001b[0;34m\u001b[0m\u001b[0;34m\u001b[0m\u001b[0m\n\u001b[0m\u001b[1;32m     11\u001b[0m \u001b[0mtest\u001b[0m\u001b[0;34m.\u001b[0m\u001b[0mtestEqual\u001b[0m\u001b[0;34m(\u001b[0m\u001b[0mis_palindrome_iterative\u001b[0m\u001b[0;34m(\u001b[0m\u001b[0;34m\"mother\"\u001b[0m\u001b[0;34m)\u001b[0m\u001b[0;34m,\u001b[0m \u001b[0;32mFalse\u001b[0m\u001b[0;34m)\u001b[0m\u001b[0;34m\u001b[0m\u001b[0;34m\u001b[0m\u001b[0m\n\u001b[1;32m     12\u001b[0m \u001b[0mtest\u001b[0m\u001b[0;34m.\u001b[0m\u001b[0mtestEqual\u001b[0m\u001b[0;34m(\u001b[0m\u001b[0mis_palindrome_iterative\u001b[0m\u001b[0;34m(\u001b[0m\u001b[0;34m\"madam\"\u001b[0m\u001b[0;34m)\u001b[0m\u001b[0;34m,\u001b[0m \u001b[0;32mTrue\u001b[0m\u001b[0;34m)\u001b[0m\u001b[0;34m\u001b[0m\u001b[0;34m\u001b[0m\u001b[0m\n",
      "\u001b[0;31mAttributeError\u001b[0m: module 'test' has no attribute 'testEqual'"
     ]
    }
   ],
   "source": [
    "## additional\n",
    "## including another non-iterative and non-recursive \n",
    "## way to write this function\n",
    "\n",
    "def is_palindrome(word):\n",
    "    print(word[::-1]==word)\n",
    "\n",
    "## unit testing\n",
    "import test\n",
    "print(\"testing is_palindrome() function\")\n",
    "test.testEqual(is_palindrome(\"mom\"), True)\n",
    "test.testEqual(is_palindrome(\"mother\"), False)\n",
    "test.testEqual(is_palindrome(\"madam\"), True)\n",
    "test.testEqual(is_palindrome(12321), True)\n",
    "test.testEqual(is_palindrome(\"madama\"), True)"
   ]
  }
 ],
 "metadata": {
  "celltoolbar": "Edit Metadata",
  "kernelspec": {
   "display_name": "Python 3",
   "language": "python",
   "name": "python3"
  },
  "language_info": {
   "codemirror_mode": {
    "name": "ipython",
    "version": 3
   },
   "file_extension": ".py",
   "mimetype": "text/x-python",
   "name": "python",
   "nbconvert_exporter": "python",
   "pygments_lexer": "ipython3",
   "version": "3.7.4"
  }
 },
 "nbformat": 4,
 "nbformat_minor": 2
}
