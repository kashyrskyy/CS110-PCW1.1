{
 "cells": [
  {
   "cell_type": "markdown",
   "metadata": {},
   "source": [
    "Before you turn this problem in, make sure everything runs as expected. First, **restart the kernel** (in the menubar, select Kernel$\\rightarrow$Restart) and then **run all cells** (in the menubar, select Cell$\\rightarrow$Run All).\n",
    "\n",
    "Note that this Pre-class Work is estimated to take **32 minutes**.\n",
    "\n",
    "Make sure you fill in any place that says `YOUR CODE HERE` or \"YOUR ANSWER HERE\", as well as your name and collaborators below:"
   ]
  },
  {
   "cell_type": "code",
   "execution_count": null,
   "metadata": {},
   "outputs": [],
   "source": [
    "NAME = \"Andriy Kashyrskyy\"\n",
    "COLLABORATORS = \"\""
   ]
  },
  {
   "cell_type": "markdown",
   "metadata": {},
   "source": [
    "---"
   ]
  },
  {
   "cell_type": "markdown",
   "metadata": {
    "deletable": false,
    "nbgrader": {
     "checksum": "6eb33d4bbb91bdad042e00eb02fae1ad",
     "grade": false,
     "grade_id": "cell-f941f4ddd5e342f7",
     "locked": true,
     "schema_version": 1,
     "solution": false
    }
   },
   "source": [
    "# CS110 Pre-class Work - Maximum subarray problem—part II\n",
    "\n",
    "## Question 1 [time estimate: 2 minutes]\n",
    "Paste in your Python implementation of the maximum subarray from the previous class in the cell below and use that to find out the value of the maximum subarray of this array: `A = [-2, -3, 4, -1, -2, 1]`"
   ]
  },
  {
   "cell_type": "code",
   "execution_count": 11,
   "metadata": {
    "deletable": false,
    "nbgrader": {
     "checksum": "6c4991e90ad8cdfb8cf42529b7e5edd6",
     "grade": true,
     "grade_id": "cell-e69c8bbcd40ca242",
     "locked": false,
     "points": 0,
     "schema_version": 1,
     "solution": true
    }
   },
   "outputs": [
    {
     "data": {
      "text/plain": [
       "(2, 2, 4)"
      ]
     },
     "execution_count": 11,
     "metadata": {},
     "output_type": "execute_result"
    }
   ],
   "source": [
    "def bruteforce_max_subarray(A):\n",
    "    \"\"\"\n",
    "    Implements brute-force maximum subarray finding.\n",
    "    \n",
    "    Parameters\n",
    "    ----------\n",
    "    A : list\n",
    "        a NON-EMPTY list of floats\n",
    "    \n",
    "    Returns\n",
    "    -------\n",
    "    tuple\n",
    "        - the start index of the max subarray\n",
    "        - the end index of the max subarray\n",
    "        - the value of the maximum subarray\n",
    "        \n",
    "    \"\"\"\n",
    "    ## we create empty lists for indeces of starting array index and ending array index\n",
    "    ## we initially set maximum to 0 \n",
    "    ## maximum, index_1, index_2 will be getting updated while the code below runs\n",
    "    maximum = 0\n",
    "    index_1 = []\n",
    "    index_2 = []\n",
    "    ## as we iterate through each sub-array, we will calculate each of it's sum\n",
    "    ## current_maximum will store the maximum of these sums seen so far\n",
    "    ## we can also use range(len(A)-1)\n",
    "    for a in range(0,len(A)):\n",
    "        for b in range(0,len(A)):\n",
    "            if A[a:b]:\n",
    "                ## compute the sum, save to current max value\n",
    "                current_maximum = sum(A[a:b])\n",
    "                ## if the maximum is less than current maximum, append a value and b value to indeces lists\n",
    "                ## update maximum with a higher, current maximum\n",
    "                if current_maximum > maximum:\n",
    "                    maximum = current_maximum\n",
    "                    index_1.append(a)\n",
    "                    index_2.append(b-1)\n",
    "   ## we output last indeces in the arrays of indeces and a maximum sum\n",
    "    return index_1[-1], index_2[-1], maximum\n",
    "\n",
    "A = [-2, -3, 4, -1, -2, 1]\n",
    "bruteforce_max_subarray(A)"
   ]
  },
  {
   "cell_type": "markdown",
   "metadata": {
    "deletable": false,
    "editable": false,
    "nbgrader": {
     "checksum": "676f4558ca97298a50665d2b57563a54",
     "grade": false,
     "grade_id": "cell-6b2d39096ef80c67",
     "locked": true,
     "schema_version": 1,
     "solution": false
    }
   },
   "source": [
    "## Question 2 [time estimate: 5 minutes]\n",
    "Now, your friend Joe comes and appends a single extra number at the end of the array, which becomes:  `B = [-2, -3, 4, -1, -2, 1, 8]`. With the output from ```max_subarray(A)```, do you need to rerun ```max_subarray()``` for the new array again to find the subarray we need? Explain why, or why not, in as much detail as possible, using, if necessary, a specific example to illustrate your reasoning. The subsequent questions will help you figure out an efficient algorithmic strategy to address the last question, but make sure to write your explanation above first, before answering the remaining questions.\n"
   ]
  },
  {
   "cell_type": "markdown",
   "metadata": {
    "deletable": false,
    "nbgrader": {
     "checksum": "b848c0f0fa07252cc99055a801b12e47",
     "grade": true,
     "grade_id": "cell-d4b7cd845c816263",
     "locked": false,
     "points": 0,
     "schema_version": 1,
     "solution": true
    }
   },
   "source": [
    "If we do run it again with the new array, we can expect to have a larger run time (as we get a larger input), which results in a bigger number of steps performed (in a brute-force it would be n(n-1)/2; so if n(n-1)/2 is what we have originally, the next new can be calculated as (n+1)(n)/2 is we just updated n by 1).\n",
    "\n",
    "With the added *8* to the right, we can see that the new maximum subarray will be *10* (as values of 4+(-1)+(-2)+1+8). Regarding this question, to figure out such problem I would just calculate whether the sum of each array including 8 (starting from the end) minus each sum calculated before, and the biggest sum we'll end up with will correspond (as a positive number) to a bigger max subarray then calculated before we added an extra number."
   ]
  },
  {
   "cell_type": "markdown",
   "metadata": {
    "deletable": false,
    "editable": false,
    "nbgrader": {
     "checksum": "055be509a3fd9e61e64a6572949aa994",
     "grade": false,
     "grade_id": "cell-7280eecbaa455be1",
     "locked": true,
     "schema_version": 1,
     "solution": false
    }
   },
   "source": [
    "## Question 3 [time estimate: 5 minutes]\n",
    "\n",
    "**Determine if the following statement is True or False and explain your answer.**\n",
    "If the maximum subarray of the array A is different than the maximum subarray of the array B (questions 1 and 2), the new maximum-subarray doesn’t need to include 8 (i.e., the newly appended element). \n"
   ]
  },
  {
   "cell_type": "markdown",
   "metadata": {
    "deletable": false,
    "nbgrader": {
     "checksum": "2b29f3c119737d73a7578e00d43972a4",
     "grade": true,
     "grade_id": "cell-9377964a8756f13b",
     "locked": false,
     "points": 0,
     "schema_version": 1,
     "solution": true
    }
   },
   "source": [
    "*False if max_subarray(B)>maxsubarray(A)*. We have to define what \"different\" means in this context, and we can define this as having maximum subarray of the array A either smaller or bigger then a maximum subarray of the array B. In the case of it being smaller, the new maximum-subarray HAS to include 8, as that makes a difference in its algorithmic computation (we add one additional number). If it is bigger, that means adding 8 to the array did not result in having a bigger value for the maximum subarray. However, as we have seen before, adding of 8 results in a new subarray (4,-1,-2,1,8) with a sum of 10, which is bigger than A's maximum subarray of 4."
   ]
  },
  {
   "cell_type": "markdown",
   "metadata": {
    "deletable": false,
    "editable": false,
    "nbgrader": {
     "checksum": "461bf61cb22c2304f3988c6f34a901e8",
     "grade": false,
     "grade_id": "cell-e7cc711ccdade69f",
     "locked": true,
     "schema_version": 1,
     "solution": false
    }
   },
   "source": [
    "## Question 4 [time estimate: 10 minutes]\n",
    "Complete the Python function `incremental_max_subarray(x, mx)` in the cell below.\n",
    "\n",
    "This [video](https://www.youtube.com/watch?v=AAgErqQmwmA&list=PLF_a-qBXTGFektoI6JUOTRL36JlvD04BR&index=4&t=0s)  might be helpful to understand the `incremental_max_subarray` problem."
   ]
  },
  {
   "cell_type": "code",
   "execution_count": 90,
   "metadata": {
    "deletable": false,
    "nbgrader": {
     "checksum": "ac3f0799ce4ff7159403a97b99cbb5bd",
     "grade": false,
     "grade_id": "cell-0230e459f3d701f8",
     "locked": false,
     "schema_version": 1,
     "solution": true
    }
   },
   "outputs": [
    {
     "data": {
      "text/plain": [
       "10"
      ]
     },
     "execution_count": 90,
     "metadata": {},
     "output_type": "execute_result"
    }
   ],
   "source": [
    "def incremental_max_subarray(x, mx):\n",
    "    \"\"\" \n",
    "    Parameters\n",
    "    ----------\n",
    "    x : list\n",
    "        A NON-EMPTY list of numbers (e.g., the \n",
    "        array B in the first two questions above)\n",
    "        \n",
    "        If x has 1 element: returns the value of \n",
    "        the element regardless of the value of mx\n",
    "        \n",
    "    mx \n",
    "        The maximum subarray of x excluding its \n",
    "        ast element (i.e., compute the maximum \n",
    "        subarray of the input array x considering \n",
    "        only its first len(x) - 1 elements)\n",
    "    \n",
    "    Returns\n",
    "    -------\n",
    "    int\n",
    "        The maximum subarray of the array x\n",
    "    \n",
    "    Example\n",
    "    -------\n",
    "    Using the array B in question 2, the result \n",
    "    of incremental_max_subarray(B, 4) is 10: \n",
    "    \n",
    "        10 = 8 + 1 - 2 -1 + 4 \n",
    "    \n",
    "    \n",
    "    \"\"\"\n",
    "    ## specifying the base case condition\n",
    "    if  len(x) == 1:\n",
    "        return x[0]\n",
    "    \n",
    "    minor_sum = 0\n",
    "    final_sum = -float(\"inf\")\n",
    "    \n",
    "    ## making a for loop to iterate through the array\n",
    "    for a in reversed(range(-len(x),0)):\n",
    "        minor_sum = minor_sum + x[a] #adding the ath element\n",
    "        if minor_sum > final_sum: #if subsum we find is bigger than global sum\n",
    "            final_sum = minor_sum # updating the final (global sum), if meets conditions\n",
    "            \n",
    "    return max(mx, final_sum) #returning mx, final_sum\n",
    "\n",
    "B = [-2, -3, 4, -1, -2, 1, 8]\n",
    "\n",
    "## finding the maximum subarray first\n",
    "BB = B[:-1]\n",
    "mxx = int(bruteforce_max_subarray(BB)[2])\n",
    "## calling on the function with a new list\n",
    "incremental_max_subarray(B, mxx)"
   ]
  },
  {
   "cell_type": "code",
   "execution_count": 77,
   "metadata": {
    "deletable": false,
    "editable": false,
    "nbgrader": {
     "checksum": "70a3880be02d6f703dfa95229957e71f",
     "grade": true,
     "grade_id": "cell-9abf19e56620ffa3",
     "locked": true,
     "points": 1,
     "schema_version": 1,
     "solution": false
    }
   },
   "outputs": [],
   "source": [
    "B = [-2, -3, 4, -1, -2, 1, 8]\n",
    "assert(incremental_max_subarray(B, 4) == 10)\n",
    "assert(incremental_max_subarray(B[:1], 0) == B[0])"
   ]
  },
  {
   "cell_type": "markdown",
   "metadata": {
    "deletable": false,
    "editable": false
   },
   "source": [
    "## Question 5\n",
    "\n",
    "### Part 1 [time estimate: 5 minutes]\n",
    "\n",
    "Now use `incremental_max_subarray(x, mx)` iteratively, starting from the first element, to calculate the maximum subarray of a given list. Come up with a few test cases to test your code."
   ]
  },
  {
   "cell_type": "code",
   "execution_count": 100,
   "metadata": {
    "deletable": false,
    "nbgrader": {
     "checksum": "d9cdd0a60c40e487e87d79d21915e36b",
     "grade": false,
     "grade_id": "cell-fd96d4ccccd99fe6",
     "locked": false,
     "schema_version": 1,
     "solution": true
    }
   },
   "outputs": [],
   "source": [
    "def max_subarray(A):\n",
    "    \"\"\"\n",
    "    Using `incremental_max_subarray` iteratively on A \n",
    "    to produce the value of the maximum subarray of A.\n",
    "    \n",
    "    Parameters\n",
    "    ----------\n",
    "    A : list\n",
    "        A NON-EMPTY list of floats\n",
    "        \n",
    "    Returns\n",
    "    -------\n",
    "    float\n",
    "        The sum of the maximum subarray of A \n",
    "    \n",
    "    \"\"\"\n",
    "    #base-case\n",
    "    #if  len(A) == 1:\n",
    "    sum_global = A[0]\n",
    "    \n",
    "    #running a for loop to add new values and comppute the new (global) sum\n",
    "    for a in range(len(A)+1):\n",
    "        sum_global = incremental_max_subarray(A[:a], sum_global)    \n",
    "    return sum_global\n",
    "\n",
    "A = [-2, -3, 4, -1, -2, 1]\n",
    "B = [-2, -3, 4, -1, -2, 1, 8]\n",
    "assert(max_subarray(A) == 4)\n",
    "assert(max_subarray(B) == 10)"
   ]
  },
  {
   "cell_type": "code",
   "execution_count": null,
   "metadata": {
    "deletable": false,
    "editable": false,
    "nbgrader": {
     "checksum": "74149a9559625383203ec1320bff5558",
     "grade": true,
     "grade_id": "cell-669ad779766aa2c3",
     "locked": true,
     "points": 1,
     "schema_version": 1,
     "solution": false
    }
   },
   "outputs": [],
   "source": [
    "# Please ignore this cell. This cell is for us to implement the tests \n",
    "# to see if your code works properly. "
   ]
  },
  {
   "cell_type": "markdown",
   "metadata": {
    "deletable": false,
    "editable": false,
    "nbgrader": {
     "checksum": "03054d2ff22ec9310060ab534208ec0d",
     "grade": false,
     "grade_id": "cell-ae966fc92d098939",
     "locked": true,
     "schema_version": 1,
     "solution": false
    }
   },
   "source": [
    "### Part 2 [time estimate: 5 minutes]\n",
    "Is this more efficient than the divide-and-conquer approach? Explain."
   ]
  },
  {
   "cell_type": "markdown",
   "metadata": {
    "deletable": false,
    "nbgrader": {
     "checksum": "69eb86a7f05367f6396017910664f67d",
     "grade": true,
     "grade_id": "cell-cd8f0b130a7136db",
     "locked": false,
     "points": 0,
     "schema_version": 1,
     "solution": true
    }
   },
   "source": [
    "Its time complexity is O(n^2) (1 for loop within max_subarray() and 1 for loop within incremental_max_subarray) in comparison to that of divide and conquer approach O(nlogn). Thus it is less efficient (with the larger input size of n divide-and-conquer performs better, that is graphically presented by the plot of nlogn gettung lowe values of T(nlogn) on y-axis, in comparison to the same inputs for the plot of T(n^2)."
   ]
  }
 ],
 "metadata": {
  "kernelspec": {
   "display_name": "Python 3",
   "language": "python",
   "name": "python3"
  },
  "language_info": {
   "codemirror_mode": {
    "name": "ipython",
    "version": 3
   },
   "file_extension": ".py",
   "mimetype": "text/x-python",
   "name": "python",
   "nbconvert_exporter": "python",
   "pygments_lexer": "ipython3",
   "version": "3.7.4"
  }
 },
 "nbformat": 4,
 "nbformat_minor": 2
}
